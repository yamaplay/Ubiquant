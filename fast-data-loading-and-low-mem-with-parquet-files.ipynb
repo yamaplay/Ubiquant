{
 "cells": [
  {
   "cell_type": "markdown",
   "id": "b1cf22db",
   "metadata": {
    "_cell_guid": "b1076dfc-b9ad-4769-8c92-a6c4dae69d19",
    "_uuid": "8f2839f25d086af736a60e9eeb907d3b93b6e0e5",
    "papermill": {
     "duration": 0.013222,
     "end_time": "2022-01-19T14:44:53.580759",
     "exception": false,
     "start_time": "2022-01-19T14:44:53.567537",
     "status": "completed"
    },
    "tags": []
   },
   "source": [
    "# Speed Up Loading The Data By Importing from the Parquet Dataset\n",
    "\n",
    "Dataset Link here: https://www.kaggle.com/robikscube/ubiquant-parquet\n",
    "\n",
    "Read about parquet files here: https://databricks.com/glossary/what-is-parquet\n",
    "\n",
    "Excerpt from the above website:\n",
    "\n",
    "**What is Parquet?**\n",
    "\n",
    "*Parquet is an open source file format available to any project in the Hadoop ecosystem. Apache Parquet is designed for efficient as well as performant flat columnar storage format of data compared to row based files like CSV or TSV files.*\n",
    "\n",
    "*Parquet uses the record shredding and assembly algorithm which is superior to simple flattening of nested namespaces. Parquet is optimized to work with complex data in bulk and features different ways for efficient data compression and encoding types.  This approach is best especially for those queries that need to read certain columns from a large table. Parquet can only read the needed columns therefore greatly minimizing the IO.*\n",
    "\n",
    "Parquetとは？\n",
    "\n",
    "Parquetは、Hadoopエコシステムのあらゆるプロジェクトで利用可能なオープンソースのファイルフォーマットです。Apache Parquetは、CSVやTSVのような行ベースのファイルと比較して、効率的でパフォーマンスの高いフラットな列指向のデータ保存形式として設計されています。\n",
    "\n",
    "Parquetは、レコードの細断とアセンブリのアルゴリズムを使用しており、ネストした名前空間を単純に平坦化するよりも優れています。Parquetは、複雑なデータを大量に扱うために最適化されており、効率的なデータ圧縮やエンコーディングの種類を選択できるのが特徴です。このアプローチは、特に大きなテーブルから特定のカラムを読み込む必要があるクエリに最適です。Parquetは必要なカラムだけを読み込むことができるため、IOを大幅に削減することができます。\n",
    "\n",
    "要するに、parquetの形式にすることで、効率的なデータ圧縮になる"
   ]
  },
  {
   "cell_type": "code",
   "execution_count": 1,
   "id": "00ab2fab",
   "metadata": {
    "papermill": {
     "duration": 0.02479,
     "end_time": "2022-01-19T14:44:53.616921",
     "exception": false,
     "start_time": "2022-01-19T14:44:53.592131",
     "status": "completed"
    },
    "tags": []
   },
   "outputs": [],
   "source": [
    "import pandas as pd\n",
    "import numpy as np\n",
    "import gc"
   ]
  },
  {
   "cell_type": "markdown",
   "id": "4e65ab6d",
   "metadata": {
    "papermill": {
     "duration": 0.010646,
     "end_time": "2022-01-19T14:44:53.638726",
     "exception": false,
     "start_time": "2022-01-19T14:44:53.628080",
     "status": "completed"
    },
    "tags": []
   },
   "source": [
    "# Reading as CSV (Slow)\n",
    "- **18GB in size**\n",
    "- Don't Do this. It may cause the kaggle notebooks to crash."
   ]
  },
  {
   "cell_type": "code",
   "execution_count": 2,
   "id": "424f91e5",
   "metadata": {
    "papermill": {
     "duration": 0.018072,
     "end_time": "2022-01-19T14:44:53.667656",
     "exception": false,
     "start_time": "2022-01-19T14:44:53.649584",
     "status": "completed"
    },
    "tags": []
   },
   "outputs": [],
   "source": [
    "if False:\n",
    "    train = pd.read_csv('../input/ubiquant-market-prediction/train.csv')"
   ]
  },
  {
   "cell_type": "markdown",
   "id": "645ccfcb",
   "metadata": {
    "papermill": {
     "duration": 0.011364,
     "end_time": "2022-01-19T14:44:53.690260",
     "exception": false,
     "start_time": "2022-01-19T14:44:53.678896",
     "status": "completed"
    },
    "tags": []
   },
   "source": [
    "# Reading as Parquet (Fast)\n",
    "- **5.5GB** in size.\n",
    "- This is faster and keeps the dtypes of the original dataset."
   ]
  },
  {
   "cell_type": "code",
   "execution_count": 3,
   "id": "7b5d2a31",
   "metadata": {
    "papermill": {
     "duration": 56.739532,
     "end_time": "2022-01-19T14:45:50.441182",
     "exception": false,
     "start_time": "2022-01-19T14:44:53.701650",
     "status": "completed"
    },
    "tags": []
   },
   "outputs": [
    {
     "ename": "FileNotFoundError",
     "evalue": "[Errno 2] No such file or directory: '../input/ubiquant-parquet/train.parquet'",
     "output_type": "error",
     "traceback": [
      "\u001b[1;31m---------------------------------------------------------------------------\u001b[0m",
      "\u001b[1;31mFileNotFoundError\u001b[0m                         Traceback (most recent call last)",
      "\u001b[1;32m<timed exec>\u001b[0m in \u001b[0;36m<module>\u001b[1;34m\u001b[0m\n",
      "\u001b[1;32m~\\anaconda3\\lib\\site-packages\\pandas\\io\\parquet.py\u001b[0m in \u001b[0;36mread_parquet\u001b[1;34m(path, engine, columns, storage_options, use_nullable_dtypes, **kwargs)\u001b[0m\n\u001b[0;32m    493\u001b[0m     \u001b[0mimpl\u001b[0m \u001b[1;33m=\u001b[0m \u001b[0mget_engine\u001b[0m\u001b[1;33m(\u001b[0m\u001b[0mengine\u001b[0m\u001b[1;33m)\u001b[0m\u001b[1;33m\u001b[0m\u001b[1;33m\u001b[0m\u001b[0m\n\u001b[0;32m    494\u001b[0m \u001b[1;33m\u001b[0m\u001b[0m\n\u001b[1;32m--> 495\u001b[1;33m     return impl.read(\n\u001b[0m\u001b[0;32m    496\u001b[0m         \u001b[0mpath\u001b[0m\u001b[1;33m,\u001b[0m\u001b[1;33m\u001b[0m\u001b[1;33m\u001b[0m\u001b[0m\n\u001b[0;32m    497\u001b[0m         \u001b[0mcolumns\u001b[0m\u001b[1;33m=\u001b[0m\u001b[0mcolumns\u001b[0m\u001b[1;33m,\u001b[0m\u001b[1;33m\u001b[0m\u001b[1;33m\u001b[0m\u001b[0m\n",
      "\u001b[1;32m~\\anaconda3\\lib\\site-packages\\pandas\\io\\parquet.py\u001b[0m in \u001b[0;36mread\u001b[1;34m(self, path, columns, use_nullable_dtypes, storage_options, **kwargs)\u001b[0m\n\u001b[0;32m    230\u001b[0m             \u001b[0mto_pandas_kwargs\u001b[0m\u001b[1;33m[\u001b[0m\u001b[1;34m\"split_blocks\"\u001b[0m\u001b[1;33m]\u001b[0m \u001b[1;33m=\u001b[0m \u001b[1;32mTrue\u001b[0m  \u001b[1;31m# type: ignore[assignment]\u001b[0m\u001b[1;33m\u001b[0m\u001b[1;33m\u001b[0m\u001b[0m\n\u001b[0;32m    231\u001b[0m \u001b[1;33m\u001b[0m\u001b[0m\n\u001b[1;32m--> 232\u001b[1;33m         path_or_handle, handles, kwargs[\"filesystem\"] = _get_path_or_handle(\n\u001b[0m\u001b[0;32m    233\u001b[0m             \u001b[0mpath\u001b[0m\u001b[1;33m,\u001b[0m\u001b[1;33m\u001b[0m\u001b[1;33m\u001b[0m\u001b[0m\n\u001b[0;32m    234\u001b[0m             \u001b[0mkwargs\u001b[0m\u001b[1;33m.\u001b[0m\u001b[0mpop\u001b[0m\u001b[1;33m(\u001b[0m\u001b[1;34m\"filesystem\"\u001b[0m\u001b[1;33m,\u001b[0m \u001b[1;32mNone\u001b[0m\u001b[1;33m)\u001b[0m\u001b[1;33m,\u001b[0m\u001b[1;33m\u001b[0m\u001b[1;33m\u001b[0m\u001b[0m\n",
      "\u001b[1;32m~\\anaconda3\\lib\\site-packages\\pandas\\io\\parquet.py\u001b[0m in \u001b[0;36m_get_path_or_handle\u001b[1;34m(path, fs, storage_options, mode, is_dir)\u001b[0m\n\u001b[0;32m     99\u001b[0m         \u001b[1;31m# fsspec resources can also point to directories\u001b[0m\u001b[1;33m\u001b[0m\u001b[1;33m\u001b[0m\u001b[1;33m\u001b[0m\u001b[0m\n\u001b[0;32m    100\u001b[0m         \u001b[1;31m# this branch is used for example when reading from non-fsspec URLs\u001b[0m\u001b[1;33m\u001b[0m\u001b[1;33m\u001b[0m\u001b[1;33m\u001b[0m\u001b[0m\n\u001b[1;32m--> 101\u001b[1;33m         handles = get_handle(\n\u001b[0m\u001b[0;32m    102\u001b[0m             \u001b[0mpath_or_handle\u001b[0m\u001b[1;33m,\u001b[0m \u001b[0mmode\u001b[0m\u001b[1;33m,\u001b[0m \u001b[0mis_text\u001b[0m\u001b[1;33m=\u001b[0m\u001b[1;32mFalse\u001b[0m\u001b[1;33m,\u001b[0m \u001b[0mstorage_options\u001b[0m\u001b[1;33m=\u001b[0m\u001b[0mstorage_options\u001b[0m\u001b[1;33m\u001b[0m\u001b[1;33m\u001b[0m\u001b[0m\n\u001b[0;32m    103\u001b[0m         )\n",
      "\u001b[1;32m~\\anaconda3\\lib\\site-packages\\pandas\\io\\common.py\u001b[0m in \u001b[0;36mget_handle\u001b[1;34m(path_or_buf, mode, encoding, compression, memory_map, is_text, errors, storage_options)\u001b[0m\n\u001b[0;32m    709\u001b[0m         \u001b[1;32melse\u001b[0m\u001b[1;33m:\u001b[0m\u001b[1;33m\u001b[0m\u001b[1;33m\u001b[0m\u001b[0m\n\u001b[0;32m    710\u001b[0m             \u001b[1;31m# Binary mode\u001b[0m\u001b[1;33m\u001b[0m\u001b[1;33m\u001b[0m\u001b[1;33m\u001b[0m\u001b[0m\n\u001b[1;32m--> 711\u001b[1;33m             \u001b[0mhandle\u001b[0m \u001b[1;33m=\u001b[0m \u001b[0mopen\u001b[0m\u001b[1;33m(\u001b[0m\u001b[0mhandle\u001b[0m\u001b[1;33m,\u001b[0m \u001b[0mioargs\u001b[0m\u001b[1;33m.\u001b[0m\u001b[0mmode\u001b[0m\u001b[1;33m)\u001b[0m\u001b[1;33m\u001b[0m\u001b[1;33m\u001b[0m\u001b[0m\n\u001b[0m\u001b[0;32m    712\u001b[0m         \u001b[0mhandles\u001b[0m\u001b[1;33m.\u001b[0m\u001b[0mappend\u001b[0m\u001b[1;33m(\u001b[0m\u001b[0mhandle\u001b[0m\u001b[1;33m)\u001b[0m\u001b[1;33m\u001b[0m\u001b[1;33m\u001b[0m\u001b[0m\n\u001b[0;32m    713\u001b[0m \u001b[1;33m\u001b[0m\u001b[0m\n",
      "\u001b[1;31mFileNotFoundError\u001b[0m: [Errno 2] No such file or directory: '../input/ubiquant-parquet/train.parquet'"
     ]
    }
   ],
   "source": [
    "%%time\n",
    "train = pd.read_parquet('../input/ubiquant-parquet/train.parquet')"
   ]
  },
  {
   "cell_type": "code",
   "execution_count": 4,
   "id": "ac512453",
   "metadata": {
    "execution": {
     "iopub.execute_input": "2022-01-19T14:45:50.467675Z",
     "iopub.status.busy": "2022-01-19T14:45:50.467039Z",
     "iopub.status.idle": "2022-01-19T14:45:50.501794Z",
     "shell.execute_reply": "2022-01-19T14:45:50.501198Z",
     "shell.execute_reply.started": "2022-01-19T14:26:40.869721Z"
    },
    "papermill": {
     "duration": 0.048893,
     "end_time": "2022-01-19T14:45:50.501945",
     "exception": false,
     "start_time": "2022-01-19T14:45:50.453052",
     "status": "completed"
    },
    "tags": []
   },
   "outputs": [
    {
     "name": "stdout",
     "output_type": "stream",
     "text": [
      "<class 'pandas.core.frame.DataFrame'>\n",
      "RangeIndex: 3141410 entries, 0 to 3141409\n",
      "Columns: 304 entries, row_id to f_299\n",
      "dtypes: float64(301), int64(2), object(1)\n",
      "memory usage: 7.1+ GB\n"
     ]
    }
   ],
   "source": [
    "train.info()"
   ]
  },
  {
   "cell_type": "code",
   "execution_count": 5,
   "id": "80529775",
   "metadata": {
    "execution": {
     "iopub.execute_input": "2022-01-19T14:45:50.535544Z",
     "iopub.status.busy": "2022-01-19T14:45:50.534886Z",
     "iopub.status.idle": "2022-01-19T14:45:50.540246Z",
     "shell.execute_reply": "2022-01-19T14:45:50.539655Z",
     "shell.execute_reply.started": "2022-01-19T14:26:40.896663Z"
    },
    "papermill": {
     "duration": 0.026474,
     "end_time": "2022-01-19T14:45:50.540390",
     "exception": false,
     "start_time": "2022-01-19T14:45:50.513916",
     "status": "completed"
    },
    "tags": []
   },
   "outputs": [
    {
     "data": {
      "text/plain": [
       "row_id            object\n",
       "time_id            int64\n",
       "investment_id      int64\n",
       "target           float64\n",
       "f_0              float64\n",
       "                  ...   \n",
       "f_295            float64\n",
       "f_296            float64\n",
       "f_297            float64\n",
       "f_298            float64\n",
       "f_299            float64\n",
       "Length: 304, dtype: object"
      ]
     },
     "execution_count": 5,
     "metadata": {},
     "output_type": "execute_result"
    }
   ],
   "source": [
    "train.dtypes"
   ]
  },
  {
   "cell_type": "code",
   "execution_count": 6,
   "id": "428bc3ac",
   "metadata": {
    "_kg_hide-input": true,
    "_kg_hide-output": true,
    "execution": {
     "iopub.execute_input": "2022-01-19T14:45:50.728373Z",
     "iopub.status.busy": "2022-01-19T14:45:50.727563Z",
     "iopub.status.idle": "2022-01-19T14:45:50.733414Z",
     "shell.execute_reply": "2022-01-19T14:45:50.733900Z",
     "shell.execute_reply.started": "2022-01-19T14:26:40.907552Z"
    },
    "papermill": {
     "duration": 0.180925,
     "end_time": "2022-01-19T14:45:50.734081",
     "exception": false,
     "start_time": "2022-01-19T14:45:50.553156",
     "status": "completed"
    },
    "tags": []
   },
   "outputs": [
    {
     "data": {
      "text/plain": [
       "118"
      ]
     },
     "execution_count": 6,
     "metadata": {},
     "output_type": "execute_result"
    }
   ],
   "source": [
    "del train\n",
    "gc.collect()"
   ]
  },
  {
   "cell_type": "markdown",
   "id": "6f666395",
   "metadata": {
    "papermill": {
     "duration": 0.012483,
     "end_time": "2022-01-19T14:45:50.758760",
     "exception": false,
     "start_time": "2022-01-19T14:45:50.746277",
     "status": "completed"
    },
    "tags": []
   },
   "source": [
    "# Reading as Parquet Low Memory (Fast & Low Mem Use)\n",
    "- **3.63GB** in size\n",
    "- Even better! Uses less memory and loads even faster!"
   ]
  },
  {
   "cell_type": "code",
   "execution_count": 7,
   "id": "add491f5",
   "metadata": {
    "execution": {
     "iopub.execute_input": "2022-01-19T14:45:50.793660Z",
     "iopub.status.busy": "2022-01-19T14:45:50.792933Z",
     "iopub.status.idle": "2022-01-19T14:46:24.885222Z",
     "shell.execute_reply": "2022-01-19T14:46:24.885957Z",
     "shell.execute_reply.started": "2022-01-19T14:26:52.795778Z"
    },
    "papermill": {
     "duration": 34.114184,
     "end_time": "2022-01-19T14:46:24.886216",
     "exception": false,
     "start_time": "2022-01-19T14:45:50.772032",
     "status": "completed"
    },
    "tags": []
   },
   "outputs": [
    {
     "name": "stdout",
     "output_type": "stream",
     "text": [
      "CPU times: user 10.3 s, sys: 13.2 s, total: 23.5 s\n",
      "Wall time: 34.1 s\n"
     ]
    }
   ],
   "source": [
    "%%time\n",
    "train = pd.read_parquet('../input/ubiquant-parquet/train_low_mem.parquet')"
   ]
  },
  {
   "cell_type": "code",
   "execution_count": 8,
   "id": "a0812d6e",
   "metadata": {
    "execution": {
     "iopub.execute_input": "2022-01-19T14:46:24.931815Z",
     "iopub.status.busy": "2022-01-19T14:46:24.931161Z",
     "iopub.status.idle": "2022-01-19T14:46:24.954686Z",
     "shell.execute_reply": "2022-01-19T14:46:24.955539Z",
     "shell.execute_reply.started": "2022-01-19T14:27:21.459503Z"
    },
    "papermill": {
     "duration": 0.047765,
     "end_time": "2022-01-19T14:46:24.955909",
     "exception": false,
     "start_time": "2022-01-19T14:46:24.908144",
     "status": "completed"
    },
    "tags": []
   },
   "outputs": [
    {
     "name": "stdout",
     "output_type": "stream",
     "text": [
      "<class 'pandas.core.frame.DataFrame'>\n",
      "RangeIndex: 3141410 entries, 0 to 3141409\n",
      "Columns: 304 entries, row_id to f_299\n",
      "dtypes: float32(301), object(1), uint16(2)\n",
      "memory usage: 3.6+ GB\n"
     ]
    }
   ],
   "source": [
    "train.info()"
   ]
  },
  {
   "cell_type": "code",
   "execution_count": 9,
   "id": "2a504647",
   "metadata": {
    "execution": {
     "iopub.execute_input": "2022-01-19T14:46:24.989293Z",
     "iopub.status.busy": "2022-01-19T14:46:24.988271Z",
     "iopub.status.idle": "2022-01-19T14:46:24.995982Z",
     "shell.execute_reply": "2022-01-19T14:46:24.996547Z",
     "shell.execute_reply.started": "2022-01-19T14:27:21.499189Z"
    },
    "papermill": {
     "duration": 0.027448,
     "end_time": "2022-01-19T14:46:24.996731",
     "exception": false,
     "start_time": "2022-01-19T14:46:24.969283",
     "status": "completed"
    },
    "tags": []
   },
   "outputs": [
    {
     "data": {
      "text/plain": [
       "row_id            object\n",
       "time_id           uint16\n",
       "investment_id     uint16\n",
       "target           float32\n",
       "f_0              float32\n",
       "                  ...   \n",
       "f_295            float32\n",
       "f_296            float32\n",
       "f_297            float32\n",
       "f_298            float32\n",
       "f_299            float32\n",
       "Length: 304, dtype: object"
      ]
     },
     "execution_count": 9,
     "metadata": {},
     "output_type": "execute_result"
    }
   ],
   "source": [
    "train.dtypes"
   ]
  },
  {
   "cell_type": "markdown",
   "id": "7f49655a",
   "metadata": {
    "papermill": {
     "duration": 0.012888,
     "end_time": "2022-01-19T14:46:25.023485",
     "exception": false,
     "start_time": "2022-01-19T14:46:25.010597",
     "status": "completed"
    },
    "tags": []
   },
   "source": [
    "# Read just a single `investment_id`\n",
    "- If you only want to work with a single transaction load them like this"
   ]
  },
  {
   "cell_type": "code",
   "execution_count": 10,
   "id": "f4aea28c",
   "metadata": {
    "execution": {
     "iopub.execute_input": "2022-01-19T14:46:25.053821Z",
     "iopub.status.busy": "2022-01-19T14:46:25.052798Z",
     "iopub.status.idle": "2022-01-19T14:46:25.150850Z",
     "shell.execute_reply": "2022-01-19T14:46:25.149140Z",
     "shell.execute_reply.started": "2022-01-19T14:27:36.935855Z"
    },
    "papermill": {
     "duration": 0.114257,
     "end_time": "2022-01-19T14:46:25.151030",
     "exception": false,
     "start_time": "2022-01-19T14:46:25.036773",
     "status": "completed"
    },
    "tags": []
   },
   "outputs": [
    {
     "name": "stdout",
     "output_type": "stream",
     "text": [
      "CPU times: user 48.7 ms, sys: 28.6 ms, total: 77.3 ms\n",
      "Wall time: 88.3 ms\n"
     ]
    }
   ],
   "source": [
    "%%time\n",
    "example = pd.read_parquet('../input/ubiquant-parquet/investment_ids/529.parquet')"
   ]
  },
  {
   "cell_type": "code",
   "execution_count": 11,
   "id": "9cb2d80a",
   "metadata": {
    "execution": {
     "iopub.execute_input": "2022-01-19T14:46:25.183971Z",
     "iopub.status.busy": "2022-01-19T14:46:25.183269Z",
     "iopub.status.idle": "2022-01-19T14:46:25.207254Z",
     "shell.execute_reply": "2022-01-19T14:46:25.206684Z",
     "shell.execute_reply.started": "2022-01-19T14:27:37.347864Z"
    },
    "papermill": {
     "duration": 0.041057,
     "end_time": "2022-01-19T14:46:25.207413",
     "exception": false,
     "start_time": "2022-01-19T14:46:25.166356",
     "status": "completed"
    },
    "tags": []
   },
   "outputs": [
    {
     "name": "stdout",
     "output_type": "stream",
     "text": [
      "<class 'pandas.core.frame.DataFrame'>\n",
      "Int64Index: 1194 entries, 315 to 3138440\n",
      "Columns: 304 entries, row_id to f_299\n",
      "dtypes: float64(301), int64(2), object(1)\n",
      "memory usage: 2.8+ MB\n"
     ]
    }
   ],
   "source": [
    "example.info()"
   ]
  },
  {
   "cell_type": "markdown",
   "id": "f43e352f",
   "metadata": {
    "papermill": {
     "duration": 0.01703,
     "end_time": "2022-01-19T14:46:25.239227",
     "exception": false,
     "start_time": "2022-01-19T14:46:25.222197",
     "status": "completed"
    },
    "tags": []
   },
   "source": [
    "# Reading a Subset of Columns"
   ]
  },
  {
   "cell_type": "code",
   "execution_count": 12,
   "id": "2728f5fc",
   "metadata": {
    "execution": {
     "iopub.execute_input": "2022-01-19T14:46:25.276646Z",
     "iopub.status.busy": "2022-01-19T14:46:25.275773Z",
     "iopub.status.idle": "2022-01-19T14:46:26.934149Z",
     "shell.execute_reply": "2022-01-19T14:46:26.934867Z",
     "shell.execute_reply.started": "2022-01-19T14:28:04.415719Z"
    },
    "papermill": {
     "duration": 1.680908,
     "end_time": "2022-01-19T14:46:26.935172",
     "exception": false,
     "start_time": "2022-01-19T14:46:25.254264",
     "status": "completed"
    },
    "tags": []
   },
   "outputs": [
    {
     "name": "stdout",
     "output_type": "stream",
     "text": [
      "CPU times: user 372 ms, sys: 672 ms, total: 1.04 s\n",
      "Wall time: 1.65 s\n"
     ]
    }
   ],
   "source": [
    "%%time\n",
    "col_subset = ['time_id','investment_id','target','f_1','f_2','f_3']\n",
    "train = pd.read_parquet('../input/ubiquant-parquet/train.parquet',\n",
    "               columns=col_subset)"
   ]
  },
  {
   "cell_type": "code",
   "execution_count": 13,
   "id": "bee00e26",
   "metadata": {
    "execution": {
     "iopub.execute_input": "2022-01-19T14:46:26.976152Z",
     "iopub.status.busy": "2022-01-19T14:46:26.975454Z",
     "iopub.status.idle": "2022-01-19T14:46:26.982520Z",
     "shell.execute_reply": "2022-01-19T14:46:26.981496Z",
     "shell.execute_reply.started": "2022-01-19T14:28:11.632871Z"
    },
    "papermill": {
     "duration": 0.033348,
     "end_time": "2022-01-19T14:46:26.982776",
     "exception": false,
     "start_time": "2022-01-19T14:46:26.949428",
     "status": "completed"
    },
    "tags": []
   },
   "outputs": [
    {
     "name": "stdout",
     "output_type": "stream",
     "text": [
      "<class 'pandas.core.frame.DataFrame'>\n",
      "RangeIndex: 3141410 entries, 0 to 3141409\n",
      "Data columns (total 6 columns):\n",
      " #   Column         Dtype  \n",
      "---  ------         -----  \n",
      " 0   time_id        int64  \n",
      " 1   investment_id  int64  \n",
      " 2   target         float64\n",
      " 3   f_1            float64\n",
      " 4   f_2            float64\n",
      " 5   f_3            float64\n",
      "dtypes: float64(4), int64(2)\n",
      "memory usage: 143.8 MB\n"
     ]
    }
   ],
   "source": [
    "train.info()"
   ]
  },
  {
   "cell_type": "markdown",
   "id": "cdeaf17a",
   "metadata": {
    "papermill": {
     "duration": 0.016666,
     "end_time": "2022-01-19T14:46:27.014552",
     "exception": false,
     "start_time": "2022-01-19T14:46:26.997886",
     "status": "completed"
    },
    "tags": []
   },
   "source": [
    "## Thanks!"
   ]
  }
 ],
 "metadata": {
  "kernelspec": {
   "display_name": "Python 3 (ipykernel)",
   "language": "python",
   "name": "python3"
  },
  "language_info": {
   "codemirror_mode": {
    "name": "ipython",
    "version": 3
   },
   "file_extension": ".py",
   "mimetype": "text/x-python",
   "name": "python",
   "nbconvert_exporter": "python",
   "pygments_lexer": "ipython3",
   "version": "3.8.12"
  },
  "papermill": {
   "default_parameters": {},
   "duration": 105.080442,
   "end_time": "2022-01-19T14:46:28.343988",
   "environment_variables": {},
   "exception": null,
   "input_path": "__notebook__.ipynb",
   "output_path": "__notebook__.ipynb",
   "parameters": {},
   "start_time": "2022-01-19T14:44:43.263546",
   "version": "2.3.3"
  }
 },
 "nbformat": 4,
 "nbformat_minor": 5
}
